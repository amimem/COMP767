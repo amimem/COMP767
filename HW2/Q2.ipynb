{
 "cells": [
  {
   "cell_type": "markdown",
   "metadata": {},
   "source": [
    "# Question 2"
   ]
  },
  {
   "cell_type": "code",
   "execution_count": 117,
   "metadata": {},
   "outputs": [],
   "source": [
    "import numpy as np\n",
    "import gym\n",
    "import math\n",
    "import random\n",
    "import matplotlib.pyplot as plt"
   ]
  },
  {
   "cell_type": "code",
   "execution_count": 118,
   "metadata": {},
   "outputs": [],
   "source": [
    "random.seed(0) # for hash function\n",
    "np.random.seed(0)\n",
    "seeds = np.random.randint(1, 5562, 10) # create the list of seeds for each run"
   ]
  },
  {
   "cell_type": "code",
   "execution_count": 119,
   "metadata": {},
   "outputs": [
    {
     "data": {
      "text/plain": [
       "array([2733, 2608, 1654, 3265, 4932, 4860, 1034, 4374, 3469,  706])"
      ]
     },
     "execution_count": 119,
     "metadata": {},
     "output_type": "execute_result"
    }
   ],
   "source": [
    "seeds"
   ]
  },
  {
   "cell_type": "code",
   "execution_count": 120,
   "metadata": {},
   "outputs": [
    {
     "data": {
      "text/plain": [
       "[0]"
      ]
     },
     "execution_count": 120,
     "metadata": {},
     "output_type": "execute_result"
    }
   ],
   "source": [
    "env = gym.make(\"MountainCar-v0\")\n",
    "env.seed(0) # making steps reproducible"
   ]
  },
  {
   "cell_type": "code",
   "execution_count": 121,
   "metadata": {},
   "outputs": [],
   "source": [
    "num_tilings = 8 # number of tilings to use\n",
    "num_bins = [8] * len(env.observation_space.high) # nunber of bins in each tiling\n",
    "num_actions = env.action_space.n # number of actions\n",
    "\n",
    "total_size = num_tilings * np.prod(num_bins) * num_actions # total nunber of unique indexes needed for each combination"
   ]
  },
  {
   "cell_type": "code",
   "execution_count": 122,
   "metadata": {},
   "outputs": [],
   "source": [
    "scales = [ num_tilings / (env.observation_space.high[i] - env.observation_space.low[i]) for i in range(len(env.observation_space.high))]"
   ]
  },
  {
   "cell_type": "code",
   "execution_count": 123,
   "metadata": {},
   "outputs": [],
   "source": [
    "# This is a re-implementation of the function given in : https://github.com/kamenbliznashki/sutton_barto/blob/master/tiles3.py\n",
    "def get_tilings_index_array(num_indices = total_size, num_tilings = num_tilings , states = [], scales = scales, action = None):\n",
    "    hashed_indices = []\n",
    "    scaled_states = np.multiply(states, scales)\n",
    "#     print(scaled_states)\n",
    "    for i in range(num_tilings):\n",
    "        indices = [i] # the first element is for creating a unique list for each tiling\n",
    "        for c, ss in enumerate(scaled_states):\n",
    "            ssm = math.floor(ss * num_tilings)\n",
    "            indices.append(math.floor( (ssm + i*(1+2*c)) / num_tilings ))\n",
    "        indices.append(action) # the last element is for creating a unique list for each state action pair\n",
    "        hashed_indices.append(hash(tuple(indices)) % num_indices)\n",
    "    return hashed_indices"
   ]
  },
  {
   "cell_type": "code",
   "execution_count": 124,
   "metadata": {},
   "outputs": [],
   "source": [
    "env._max_episode_steps = 2000 # Set max episode steps to a high number"
   ]
  },
  {
   "cell_type": "code",
   "execution_count": 125,
   "metadata": {},
   "outputs": [],
   "source": [
    "epsilon = 0.1 # epsilon for exploration"
   ]
  },
  {
   "cell_type": "code",
   "execution_count": 81,
   "metadata": {},
   "outputs": [],
   "source": [
    "alphas = np.linspace(0,1, num = 6)\n",
    "alphas /= num_tilings\n",
    "alphas = alphas[1:]\n",
    "lambdas = np.linspace(0,1, num = 6)\n",
    "lambdas = lambdas[1:-1]\n",
    "data = np.zeros((len(lambdas),len(alphas), len(seeds)))\n",
    "gamma = 1.0\n",
    "num_episodes = 1000"
   ]
  },
  {
   "cell_type": "code",
   "execution_count": 82,
   "metadata": {},
   "outputs": [
    {
     "data": {
      "text/plain": [
       "array([0.025, 0.05 , 0.075, 0.1  , 0.125])"
      ]
     },
     "execution_count": 82,
     "metadata": {},
     "output_type": "execute_result"
    }
   ],
   "source": [
    "alphas"
   ]
  },
  {
   "cell_type": "code",
   "execution_count": 83,
   "metadata": {},
   "outputs": [
    {
     "data": {
      "text/plain": [
       "array([0.2, 0.4, 0.6, 0.8])"
      ]
     },
     "execution_count": 83,
     "metadata": {},
     "output_type": "execute_result"
    }
   ],
   "source": [
    "lambdas"
   ]
  },
  {
   "cell_type": "code",
   "execution_count": 126,
   "metadata": {},
   "outputs": [],
   "source": [
    "def get_action(state, weights):\n",
    "    # act in a epsilon-greedy manner\n",
    "    if np.random.rand() < epsilon: # get a random number and if is less than epsilon, choose a random action\n",
    "        action = np.random.choice(np.arange(num_actions))\n",
    "    else: # otherwise choose the greedy action ( the state action pair with the highest value given current weights )\n",
    "        features = [get_tilings_index_array(states = state, action = a) for a in np.arange(num_actions)]\n",
    "        action = np.argmax([np.sum(weights[f]) for f in features])\n",
    "    return action"
   ]
  },
  {
   "cell_type": "code",
   "execution_count": 85,
   "metadata": {},
   "outputs": [],
   "source": [
    "data = np.zeros((len(lambdas), len(alphas), len(seeds)))"
   ]
  },
  {
   "cell_type": "code",
   "execution_count": null,
   "metadata": {},
   "outputs": [],
   "source": [
    "# for each lambda\n",
    "for l, lambd in enumerate(lambdas):\n",
    "    # for each alpha\n",
    "    for al, alpha in enumerate(alphas): \n",
    "        # for each seed\n",
    "        for run in range(0, len(seeds)):            \n",
    "#             set the seed for each run\n",
    "\n",
    "            random.seed(seeds[run])\n",
    "            np.random.seed(seeds[run])\n",
    "            \n",
    "            # initialize the weight vector and trace vector\n",
    "            w = np.zeros(total_size)\n",
    "            z = np.zeros(total_size)\n",
    "\n",
    "            # do 1000 episodes of TD(lambda)\n",
    "            for episode in range(num_episodes + 1):\n",
    "                # get the initial state\n",
    "                s = env.reset()\n",
    "\n",
    "                # set trace vector to zero\n",
    "                z = np.zeros(total_size)\n",
    "                \n",
    "                # Get action a\n",
    "                a = get_action(s,w)\n",
    "                \n",
    "                steps = 0\n",
    "\n",
    "                while(1):\n",
    "                    \n",
    "                    # Take action and observe reward and next state\n",
    "                    s_prime, r, done, _ = env.step(a)\n",
    "                    steps += 1\n",
    "                    \n",
    "                    delta = r\n",
    "                    \n",
    "                    indices = get_tilings_index_array(states = s , action = a)\n",
    "                    \n",
    "                    q_s = np.sum(w[indices])\n",
    "                    delta -= q_s\n",
    "                    z[indices] = 1\n",
    "                    \n",
    "                    if done == True:\n",
    "                        w += alpha*delta*z\n",
    "                        break\n",
    "\n",
    "                    # Choose A' \n",
    "                    a_prime = get_action(s_prime,w)\n",
    "\n",
    "                    # Get features for s' , a'\n",
    "                    indices_prime = get_tilings_index_array(states = s_prime , action = a_prime)\n",
    "                    q_new = np.sum(w[indices_prime])\n",
    "\n",
    "                    delta += gamma*q_new\n",
    "                    w += alpha*delta*z\n",
    "                    z = gamma*lambd*z\n",
    "\n",
    "                    s = s_prime\n",
    "                    a = a_prime\n",
    "                    \n",
    "                if ( episode == num_episodes ):\n",
    "                    data[l,al,run] = steps\n",
    "                    print(np.count_nonzero(data))"
   ]
  },
  {
   "cell_type": "code",
   "execution_count": 91,
   "metadata": {},
   "outputs": [
    {
     "data": {
      "image/png": "[encoded data removed]",
      "text/plain": [
       "<Figure size 360x360 with 1 Axes>"
      ]
     },
     "metadata": {
      "needs_background": "light"
     },
     "output_type": "display_data"
    }
   ],
   "source": [
    "f, axes = plt.subplots(1, 1, figsize=(5, 5))\n",
    "\n",
    "# plt.ylim(top=1) #ymax is your value\n",
    "# plt.ylim(bottom=0) #ymin is your value\n",
    "for i in range(0, len(lambdas), 1):\n",
    "    means = np.mean(data[i,:,:], axis  = 1)\n",
    "#     print(means)\n",
    "    std = np.std(data[i,:,:], axis  = 1)\n",
    "#     print(std) \n",
    "#     axes.plot(alphas, means)\n",
    "#     axes.fill_between(alphas, means-std, means+std,  alpha = 0.3)\n",
    "    axes.errorbar(alphas, means, yerr=std)\n",
    "# plt.ylim(top=1)\n",
    "\n",
    "axes.legend(lambdas)\n",
    "axes.set_xlabel('alpha')\n",
    "axes.set_ylabel('steps')\n",
    "plt.show()"
   ]
  },
  {
   "cell_type": "code",
   "execution_count": 94,
   "metadata": {},
   "outputs": [],
   "source": [
    "alphas = np.linspace(0,1.5, num = 11)\n",
    "alphas /= num_tilings\n",
    "alphas = alphas[1:-1]\n",
    "lambdas = np.linspace(0,1, num = 6)\n",
    "lambdas = lambdas[1:-1]\n",
    "gamma = 1.0\n",
    "num_episodes = 1000"
   ]
  },
  {
   "cell_type": "code",
   "execution_count": 95,
   "metadata": {},
   "outputs": [
    {
     "data": {
      "text/plain": [
       "array([0.01875, 0.0375 , 0.05625, 0.075  , 0.09375, 0.1125 , 0.13125,\n",
       "       0.15   , 0.16875])"
      ]
     },
     "execution_count": 95,
     "metadata": {},
     "output_type": "execute_result"
    }
   ],
   "source": [
    "alphas"
   ]
  },
  {
   "cell_type": "code",
   "execution_count": 100,
   "metadata": {},
   "outputs": [],
   "source": [
    "data2 = np.zeros((len(lambdas), len(alphas), len(seeds)))"
   ]
  },
  {
   "cell_type": "code",
   "execution_count": null,
   "metadata": {},
   "outputs": [],
   "source": [
    "# for each lambda\n",
    "for l, lambd in enumerate(lambdas):\n",
    "    # for each alpha\n",
    "    for al, alpha in enumerate(alphas): \n",
    "        # for each seed\n",
    "        for run in range(0, len(seeds)):            \n",
    "#             set the seed for each run\n",
    "\n",
    "            random.seed(seeds[run])\n",
    "            np.random.seed(seeds[run])\n",
    "            \n",
    "            # initialize the weight vector and trace vector\n",
    "            w = np.zeros(total_size)\n",
    "            z = np.zeros(total_size)\n",
    "\n",
    "            # do 1000 episodes of TD(lambda)\n",
    "            for episode in range(50 + 1):\n",
    "                # get the initial state\n",
    "                s = env.reset()\n",
    "\n",
    "                # set trace vector to zero\n",
    "                z = np.zeros(total_size)\n",
    "                \n",
    "                # Get action a\n",
    "                a = get_action(s,w)\n",
    "                \n",
    "                steps = 0\n",
    "\n",
    "                while(1):\n",
    "                    \n",
    "                    # Take action and observe reward and next state\n",
    "                    s_prime, r, done, _ = env.step(a)\n",
    "                    steps += 1\n",
    "                    \n",
    "                    delta = r\n",
    "                    \n",
    "                    indices = get_tilings_index_array(states = s , action = a)\n",
    "                    \n",
    "                    q_s = np.sum(w[indices])\n",
    "                    delta -= q_s\n",
    "                    z[indices] = 1\n",
    "                    \n",
    "                    if done == True:\n",
    "                        w += alpha*delta*z\n",
    "                        break\n",
    "\n",
    "                    # Choose A' \n",
    "                    a_prime = get_action(s_prime,w)\n",
    "\n",
    "                    # Get features for s' , a'\n",
    "                    indices_prime = get_tilings_index_array(states = s_prime , action = a_prime)\n",
    "                    q_new = np.sum(w[indices_prime])\n",
    "\n",
    "                    delta += gamma*q_new\n",
    "                    w += alpha*delta*z\n",
    "                    z = gamma*lambd*z\n",
    "\n",
    "                    s = s_prime\n",
    "                    a = a_prime\n",
    "                    \n",
    "                if ( episode == 50 ):\n",
    "                    data2[l,al,run] = steps\n",
    "                    print(np.count_nonzero(data2))"
   ]
  },
  {
   "cell_type": "code",
   "execution_count": 102,
   "metadata": {},
   "outputs": [
    {
     "data": {
      "image/png": "[encoded data removed]",
      "text/plain": [
       "<Figure size 360x360 with 1 Axes>"
      ]
     },
     "metadata": {
      "needs_background": "light"
     },
     "output_type": "display_data"
    }
   ],
   "source": [
    "f, axes = plt.subplots(1, 1, figsize=(5, 5))\n",
    "\n",
    "# plt.ylim(top=1) #ymax is your value\n",
    "# plt.ylim(bottom=0) #ymin is your value\n",
    "for i in range(0, len(lambdas), 1):\n",
    "    means = np.mean(data2[i,:,:], axis  = 1)\n",
    "#     print(means)\n",
    "    std = np.std(data2[i,:,:], axis  = 1)\n",
    "#     print(std) \n",
    "#     axes.plot(alphas, means)\n",
    "#     axes.fill_between(alphas, means-std, means+std,  alpha = 0.3)\n",
    "    axes.errorbar(alphas, means, yerr=std)\n",
    "# plt.ylim(top=1)\n",
    "\n",
    "axes.legend(lambdas)\n",
    "axes.set_xlabel('alpha')\n",
    "axes.set_ylabel('steps')\n",
    "plt.show()"
   ]
  },
  {
   "cell_type": "code",
   "execution_count": 146,
   "metadata": {},
   "outputs": [],
   "source": [
    "alphas = np.array([0.0, 0.2, 0.6, 1, 1.4])\n",
    "alphas /= num_tilings\n",
    "lambdas = [0.0, 0.6, 0.9]\n",
    "gamma = 1.0\n",
    "num_episodes = 50"
   ]
  },
  {
   "cell_type": "code",
   "execution_count": 147,
   "metadata": {},
   "outputs": [
    {
     "data": {
      "text/plain": [
       "array([0.   , 0.025, 0.075, 0.125, 0.175])"
      ]
     },
     "execution_count": 147,
     "metadata": {},
     "output_type": "execute_result"
    }
   ],
   "source": [
    "alphas"
   ]
  },
  {
   "cell_type": "code",
   "execution_count": 148,
   "metadata": {},
   "outputs": [],
   "source": [
    "data3 = np.zeros((len(lambdas), len(alphas), len(seeds)))"
   ]
  },
  {
   "cell_type": "code",
   "execution_count": null,
   "metadata": {},
   "outputs": [],
   "source": [
    "# for each lambda\n",
    "for l, lambd in enumerate(lambdas):\n",
    "    # for each alpha\n",
    "    for al, alpha in enumerate(alphas): \n",
    "        # for each seed\n",
    "        for run in range(0, len(seeds)):            \n",
    "#             set the seed for each run\n",
    "\n",
    "            random.seed(seeds[run])\n",
    "            np.random.seed(seeds[run])\n",
    "            \n",
    "            # initialize the weight vector and trace vector\n",
    "            w = np.zeros(total_size)\n",
    "            z = np.zeros(total_size)\n",
    "\n",
    "            # do 1000 episodes of TD(lambda)\n",
    "            for episode in range(num_episodes + 1):\n",
    "                # get the initial state\n",
    "                s = env.reset()\n",
    "\n",
    "                # set trace vector to zero\n",
    "                z = np.zeros(total_size)\n",
    "                \n",
    "                # Get action a\n",
    "                a = get_action(s,w)\n",
    "                \n",
    "                steps = 0\n",
    "\n",
    "                while(1):\n",
    "                    \n",
    "                    # Take action and observe reward and next state\n",
    "                    s_prime, r, done, _ = env.step(a)\n",
    "                    steps += 1\n",
    "                    \n",
    "                    delta = r\n",
    "                    \n",
    "                    indices = get_tilings_index_array(states = s , action = a)\n",
    "                    \n",
    "                    q_s = np.sum(w[indices])\n",
    "                    delta -= q_s\n",
    "                    z[indices] = 1\n",
    "                    \n",
    "                    if done == True:\n",
    "                        w += alpha*delta*z\n",
    "                        break\n",
    "\n",
    "                    # Choose A' \n",
    "                    a_prime = get_action(s_prime,w)\n",
    "\n",
    "                    # Get features for s' , a'\n",
    "                    indices_prime = get_tilings_index_array(states = s_prime , action = a_prime)\n",
    "                    q_new = np.sum(w[indices_prime])\n",
    "\n",
    "                    delta += gamma*q_new\n",
    "                    w += alpha*delta*z\n",
    "                    z = gamma*lambd*z\n",
    "\n",
    "                    s = s_prime\n",
    "                    a = a_prime\n",
    "                    \n",
    "                if ( episode == num_episodes ):\n",
    "                    data3[l,al,run] = steps\n",
    "                    print(np.count_nonzero(data3))"
   ]
  },
  {
   "cell_type": "code",
   "execution_count": 151,
   "metadata": {},
   "outputs": [
    {
     "data": {
      "image/png": "[encoded data removed]",
      "text/plain": [
       "<Figure size 360x360 with 1 Axes>"
      ]
     },
     "metadata": {
      "needs_background": "light"
     },
     "output_type": "display_data"
    }
   ],
   "source": [
    "f, axes = plt.subplots(1, 1, figsize=(5, 5))\n",
    "\n",
    "for i in range(0, len(lambdas), 1):\n",
    "    means = np.mean(data3[i,:,:], axis  = 1)\n",
    "    std = np.std(data3[i,:,:], axis  = 1)\n",
    "    axes.errorbar(alphas, means, yerr=std)\n",
    "\n",
    "axes.legend(lambdas)\n",
    "axes.set_xlabel('alpha')\n",
    "axes.set_ylabel('steps')\n",
    "plt.show()"
   ]
  },
  {
   "cell_type": "code",
   "execution_count": 128,
   "metadata": {},
   "outputs": [],
   "source": [
    "alphas = np.array([0.0, 0.2, 0.6, 1, 1.4])\n",
    "alphas /= num_tilings\n",
    "lambdas = [0.0, 0.6, 0.9]\n",
    "gamma = 1.0\n",
    "num_episodes = 50"
   ]
  },
  {
   "cell_type": "code",
   "execution_count": 129,
   "metadata": {},
   "outputs": [
    {
     "data": {
      "text/plain": [
       "array([0.   , 0.025, 0.075, 0.125, 0.175])"
      ]
     },
     "execution_count": 129,
     "metadata": {},
     "output_type": "execute_result"
    }
   ],
   "source": [
    "alphas"
   ]
  },
  {
   "cell_type": "code",
   "execution_count": 130,
   "metadata": {},
   "outputs": [],
   "source": [
    "data4 = np.zeros((len(lambdas), len(alphas), len(seeds)))"
   ]
  },
  {
   "cell_type": "code",
   "execution_count": null,
   "metadata": {},
   "outputs": [],
   "source": [
    "# for each lambda\n",
    "for l, lambd in enumerate(lambdas):\n",
    "    # for each alpha\n",
    "    for al, alpha in enumerate(alphas): \n",
    "        # for each seed\n",
    "        for run in range(0, len(seeds)):            \n",
    "#             set the seed for each run\n",
    "\n",
    "            random.seed(seeds[run])\n",
    "            np.random.seed(seeds[run])\n",
    "            \n",
    "            # initialize the weight vector and trace vector\n",
    "            w = np.zeros(total_size)\n",
    "            z = np.zeros(total_size)\n",
    "\n",
    "            # do 1000 episodes of TD(lambda)\n",
    "            for episode in range(num_episodes):\n",
    "                # get the initial state\n",
    "                s = env.reset()\n",
    "\n",
    "                # set trace vector to zero\n",
    "                z = np.zeros(total_size)\n",
    "                \n",
    "                # Get action a\n",
    "                a = get_action(s,w)\n",
    "                \n",
    "                steps = 0\n",
    "\n",
    "                while(1):\n",
    "                    \n",
    "                    # Take action and observe reward and next state\n",
    "                    s_prime, r, done, _ = env.step(a)\n",
    "                    steps += 1\n",
    "                    \n",
    "                    delta = r\n",
    "                    \n",
    "                    indices = get_tilings_index_array(states = s , action = a)\n",
    "                    \n",
    "                    q_s = np.sum(w[indices])\n",
    "                    delta -= q_s\n",
    "                    z[indices] = 1\n",
    "                    \n",
    "                    if done == True:\n",
    "                        w += alpha*delta*z\n",
    "                        break\n",
    "\n",
    "                    # Choose A' \n",
    "                    a_prime = get_action(s_prime,w)\n",
    "\n",
    "                    # Get features for s' , a'\n",
    "                    indices_prime = get_tilings_index_array(states = s_prime , action = a_prime)\n",
    "                    q_new = np.sum(w[indices_prime])\n",
    "\n",
    "                    delta += gamma*q_new\n",
    "                    w += alpha*delta*z\n",
    "                    z = gamma*lambd*z\n",
    "\n",
    "                    s = s_prime\n",
    "                    a = a_prime\n",
    "                    \n",
    "            # test without changing weights\n",
    "            s = env.reset()\n",
    "            a = get_action(s,w)\n",
    "            steps = 0\n",
    "            while(1):\n",
    "                s_prime, r, done, _ = env.step(a)\n",
    "                steps += 1\n",
    "                if done == True:\n",
    "                    break\n",
    "                a_prime = get_action(s_prime,w)\n",
    "                s = s_prime\n",
    "                a = a_prime\n",
    "                \n",
    "            data4[l,al,run] = steps\n",
    "            print(np.count_nonzero(data4))"
   ]
  },
  {
   "cell_type": "code",
   "execution_count": 132,
   "metadata": {},
   "outputs": [
    {
     "data": {
      "image/png": "[encoded data removed]",
      "text/plain": [
       "<Figure size 360x360 with 1 Axes>"
      ]
     },
     "metadata": {
      "needs_background": "light"
     },
     "output_type": "display_data"
    }
   ],
   "source": [
    "f, axes = plt.subplots(1, 1, figsize=(5, 5))\n",
    "\n",
    "# plt.ylim(top=1) #ymax is your value\n",
    "# plt.ylim(bottom=0) #ymin is your value\n",
    "for i in range(0, len(lambdas), 1):\n",
    "    means = np.mean(data4[i,:,:], axis  = 1)\n",
    "    std = np.std(data4[i,:,:], axis  = 1)\n",
    "    axes.errorbar(alphas, means, yerr=std)\n",
    "\n",
    "axes.legend(lambdas)\n",
    "axes.set_xlabel('alpha')\n",
    "axes.set_ylabel('steps')\n",
    "plt.show()"
   ]
  },
  {
   "cell_type": "code",
   "execution_count": 133,
   "metadata": {},
   "outputs": [],
   "source": [
    "def get_action_greedy(state, weights):\n",
    "    features = [get_tilings_index_array(states = state, action = a) for a in np.arange(num_actions)]\n",
    "    action = np.argmax([np.sum(weights[f]) for f in features])\n",
    "    return action"
   ]
  },
  {
   "cell_type": "code",
   "execution_count": 134,
   "metadata": {},
   "outputs": [],
   "source": [
    "alphas = np.array([0.0, 0.2, 0.6, 1, 1.4])\n",
    "alphas /= num_tilings\n",
    "lambdas = [0.0, 0.6, 0.9]\n",
    "gamma = 1.0\n",
    "num_episodes = 50"
   ]
  },
  {
   "cell_type": "code",
   "execution_count": 135,
   "metadata": {},
   "outputs": [
    {
     "data": {
      "text/plain": [
       "array([0.   , 0.025, 0.075, 0.125, 0.175])"
      ]
     },
     "execution_count": 135,
     "metadata": {},
     "output_type": "execute_result"
    }
   ],
   "source": [
    "alphas"
   ]
  },
  {
   "cell_type": "code",
   "execution_count": 136,
   "metadata": {},
   "outputs": [],
   "source": [
    "data5 = np.zeros((len(lambdas), len(alphas), len(seeds)))"
   ]
  },
  {
   "cell_type": "code",
   "execution_count": null,
   "metadata": {},
   "outputs": [],
   "source": [
    "# for each lambda\n",
    "for l, lambd in enumerate(lambdas):\n",
    "    # for each alpha\n",
    "    for al, alpha in enumerate(alphas): \n",
    "        # for each seed\n",
    "        for run in range(0, len(seeds)):            \n",
    "#             set the seed for each run\n",
    "\n",
    "            random.seed(seeds[run])\n",
    "            np.random.seed(seeds[run])\n",
    "            \n",
    "            # initialize the weight vector and trace vector\n",
    "            w = np.zeros(total_size)\n",
    "            z = np.zeros(total_size)\n",
    "\n",
    "            # do 1000 episodes of TD(lambda)\n",
    "            for episode in range(num_episodes):\n",
    "                # get the initial state\n",
    "                s = env.reset()\n",
    "\n",
    "                # set trace vector to zero\n",
    "                z = np.zeros(total_size)\n",
    "                \n",
    "                # Get action a\n",
    "                a = get_action(s,w)\n",
    "                \n",
    "                steps = 0\n",
    "\n",
    "                while(1):\n",
    "                    \n",
    "                    # Take action and observe reward and next state\n",
    "                    s_prime, r, done, _ = env.step(a)\n",
    "                    steps += 1\n",
    "                    \n",
    "                    delta = r\n",
    "                    \n",
    "                    indices = get_tilings_index_array(states = s , action = a)\n",
    "                    \n",
    "                    q_s = np.sum(w[indices])\n",
    "                    delta -= q_s\n",
    "                    z[indices] = 1\n",
    "                    \n",
    "                    if done == True:\n",
    "                        w += alpha*delta*z\n",
    "                        break\n",
    "\n",
    "                    # Choose A' \n",
    "                    a_prime = get_action(s_prime,w)\n",
    "\n",
    "                    # Get features for s' , a'\n",
    "                    indices_prime = get_tilings_index_array(states = s_prime , action = a_prime)\n",
    "                    q_new = np.sum(w[indices_prime])\n",
    "\n",
    "                    delta += gamma*q_new\n",
    "                    w += alpha*delta*z\n",
    "                    z = gamma*lambd*z\n",
    "\n",
    "                    s = s_prime\n",
    "                    a = a_prime\n",
    "                    \n",
    "            # test without changing weights and acting greedily\n",
    "            s = env.reset()\n",
    "            a = get_action_greedy(s,w)\n",
    "            steps = 0\n",
    "            while(1):\n",
    "                s_prime, r, done, _ = env.step(a)\n",
    "                steps += 1\n",
    "                if done == True:\n",
    "                    break\n",
    "                a_prime = get_action_greedy(s_prime,w)\n",
    "                s = s_prime\n",
    "                a = a_prime\n",
    "                \n",
    "            data5[l,al,run] = steps\n",
    "            print(np.count_nonzero(data5))"
   ]
  },
  {
   "cell_type": "code",
   "execution_count": 138,
   "metadata": {},
   "outputs": [
    {
     "data": {
      "image/png": "[encoded data removed]",
      "text/plain": [
       "<Figure size 360x360 with 1 Axes>"
      ]
     },
     "metadata": {
      "needs_background": "light"
     },
     "output_type": "display_data"
    }
   ],
   "source": [
    "f, axes = plt.subplots(1, 1, figsize=(5, 5))\n",
    "\n",
    "# plt.ylim(top=1) #ymax is your value\n",
    "# plt.ylim(bottom=0) #ymin is your value\n",
    "for i in range(0, len(lambdas), 1):\n",
    "    means = np.mean(data5[i,:,:], axis  = 1)\n",
    "    std = np.std(data5[i,:,:], axis  = 1)\n",
    "    axes.errorbar(alphas, means, yerr=std)\n",
    "\n",
    "axes.legend(lambdas)\n",
    "axes.set_xlabel('alpha')\n",
    "axes.set_ylabel('steps')\n",
    "plt.show()"
   ]
  },
  {
   "cell_type": "markdown",
   "metadata": {},
   "source": [
    "Observations: For very large and very small alphas, the performance is extremely bad.\n",
    "variance in the last three graphs are higher because the number of episodes and the number of seeds are low.\n",
    "There are not enough data to back up this conclusion but with more thorough experiments we could see that the higher the labmda gets, the more robust it becomes to change in alpha unless it gets too close to 1, and although the curves overlap in my experiments, with more data, higher lambdas should naturally take lower steps to finish and the best combination would be for high lambda and middle alphas.\n",
    "To compare the graphs, we need to set the seeds before running each set of experiment, otherwise the comparison would be inaccurate.\n",
    "The first three graphs are obtained while allowing the change in weights.\n",
    "The last two graphs only use the weights after a certain number of episodes, the 4th one uses a epsilon greedy policy in the test and the last one uses a completely greedy policy for test."
   ]
  },
  {
   "cell_type": "code",
   "execution_count": null,
   "metadata": {},
   "outputs": [],
   "source": []
  }
 ],
 "metadata": {
  "kernelspec": {
   "display_name": "Python 3",
   "language": "python",
   "name": "python3"
  },
  "language_info": {
   "codemirror_mode": {
    "name": "ipython",
    "version": 3
   },
   "file_extension": ".py",
   "mimetype": "text/x-python",
   "name": "python",
   "nbconvert_exporter": "python",
   "pygments_lexer": "ipython3",
   "version": "3.7.3"
  }
 },
 "nbformat": 4,
 "nbformat_minor": 4
}
